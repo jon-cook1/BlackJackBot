{
 "cells": [
  {
   "cell_type": "code",
   "execution_count": null,
   "metadata": {},
   "outputs": [],
   "source": [
    "import numpy as np\n",
    "import pickle"
   ]
  },
  {
   "cell_type": "code",
   "execution_count": null,
   "metadata": {},
   "outputs": [],
   "source": []
  },
  {
   "cell_type": "code",
   "execution_count": 1,
   "metadata": {},
   "outputs": [],
   "source": [
    "# Same logic as MC\n",
    "\n",
    "@staticmethod\n",
    "def giveCard():\n",
    "    cards = [1,2,3,4,5,6,7,8,9,10,10,10,10]\n",
    "    return np.random.choice(cards)\n",
    "\n",
    "\n",
    "def dealerLogic(self, val, ace):\n",
    "    if val > 21:\n",
    "        if ace:\n",
    "            val -= 10\n",
    "            ace = False\n",
    "        else:\n",
    "            return val, ace, True    \n",
    "    # Assuming dealer stands on hard or soft 17, can be changed later\n",
    "    if val >= 17 and not ace:\n",
    "        return val, ace, True\n",
    "    return self.aceHelper(val,ace)"
   ]
  }
 ],
 "metadata": {
  "kernelspec": {
   "display_name": "bjbot",
   "language": "python",
   "name": "python3"
  },
  "language_info": {
   "codemirror_mode": {
    "name": "ipython",
    "version": 3
   },
   "file_extension": ".py",
   "mimetype": "text/x-python",
   "name": "python",
   "nbconvert_exporter": "python",
   "pygments_lexer": "ipython3",
   "version": "3.11.8"
  }
 },
 "nbformat": 4,
 "nbformat_minor": 2
}
