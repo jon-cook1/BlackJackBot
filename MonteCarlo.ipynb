{
 "cells": [
  {
   "cell_type": "code",
   "execution_count": 1,
   "metadata": {},
   "outputs": [],
   "source": [
    "import numpy as np\n",
    "import matplotlib.pyplot as plt\n",
    "from mpl_toolkits.mplot3d import Axes3D"
   ]
  },
  {
   "cell_type": "code",
   "execution_count": null,
   "metadata": {},
   "outputs": [],
   "source": [
    "class MC(object):\n",
    "\n",
    "    def __init__(self):\n",
    "        self.player_state_value = {}\n",
    "        self.player_states = []\n",
    "        self.player_win = 0\n",
    "        self.player_draw = 0\n",
    "\n",
    "    # Get a card - Assumes infinte number of decks mixed together\n",
    "    @staticmethod\n",
    "    def giveCard():\n",
    "        cards = [1,2,3,4,5,6,7,8,9,10,10,10]\n",
    "        return np.random.choice(cards)\n",
    "    \n",
    "    def dealerLogic(self, val, ace):\n",
    "        if val > 21:\n",
    "            if ace:\n",
    "                val -= 10\n",
    "                ace = False\n",
    "            else:\n",
    "                return val, ace, True\n",
    "            \n",
    "        # Assuming dealer hits on hard or soft 17\n",
    "        if val >= 17:\n",
    "            return val, ace, True\n",
    "        else:\n",
    "            card = self.giveCard()\n",
    "            if card == 1:\n",
    "                if val + 11 > 21:\n",
    "                    # Card must be hard ace (1)\n",
    "                    return val + 1, ace, False\n",
    "                else:\n",
    "                    # Card can be a soft ace (11)\n",
    "                    return val + 11, True, False\n",
    "            else:\n",
    "                return val+card, ace, False\n",
    "            \n",
    "    "
   ]
  }
 ],
 "metadata": {
  "kernelspec": {
   "display_name": "bjbot",
   "language": "python",
   "name": "python3"
  },
  "language_info": {
   "codemirror_mode": {
    "name": "ipython",
    "version": 3
   },
   "file_extension": ".py",
   "mimetype": "text/x-python",
   "name": "python",
   "nbconvert_exporter": "python",
   "pygments_lexer": "ipython3",
   "version": "3.11.8"
  }
 },
 "nbformat": 4,
 "nbformat_minor": 2
}
