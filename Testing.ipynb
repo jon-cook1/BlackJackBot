{
 "cells": [
  {
   "cell_type": "code",
   "execution_count": 9,
   "metadata": {},
   "outputs": [],
   "source": [
    "import pickle"
   ]
  },
  {
   "cell_type": "code",
   "execution_count": 10,
   "metadata": {},
   "outputs": [],
   "source": [
    "player_Q_Values = {}\n",
    "\n",
    "# Always stand hard 17-21\n",
    "for i in range(12,22):\n",
    "    for j in range(1, 11):\n",
    "        if j > 6 and i < 17:\n",
    "            player_Q_Values[(i, j, False)] = {1:1, 0:0}\n",
    "        else:\n",
    "            if i == 12 and (j == 2 or j == 3):\n",
    "                player_Q_Values[(i, j, False)] = {1:1, 0:0}\n",
    "            else:\n",
    "                player_Q_Values[(i, j, False)] = {1:0, 0:1}\n",
    "\n",
    "        if i == 18:\n",
    "            if j >= 9:\n",
    "                player_Q_Values[(i, j, True)] = {1:1, 0:0}\n",
    "            else:\n",
    "                player_Q_Values[(i, j, True)] = {1:0, 0:1}\n",
    "        elif i <= 17:\n",
    "            player_Q_Values[(i, j, True)] = {1:1, 0:0}\n",
    "\n",
    "        elif i  >= 19:\n",
    "            player_Q_Values[(i, j, True)] = {1:0, 0:1}\n",
    "\n",
    "# Lazy coding to correct proper ace values\n",
    "for k in range(12,19):\n",
    "    player_Q_Values[(k, 1, True)] = {1:1, 0:0}\n",
    "    if k < 17:\n",
    "        player_Q_Values[(k, 1, False)] = {1:1, 0:0}\n"
   ]
  },
  {
   "cell_type": "code",
   "execution_count": 11,
   "metadata": {},
   "outputs": [],
   "source": [
    "def saveStrategy(file = \"book_strategy\"):\n",
    "    f = open(file, 'wb')\n",
    "    pickle.dump(player_Q_Values, f)\n",
    "    f.close()"
   ]
  },
  {
   "cell_type": "code",
   "execution_count": 12,
   "metadata": {},
   "outputs": [],
   "source": [
    "saveStrategy()"
   ]
  }
 ],
 "metadata": {
  "kernelspec": {
   "display_name": "bjbot",
   "language": "python",
   "name": "python3"
  },
  "language_info": {
   "codemirror_mode": {
    "name": "ipython",
    "version": 3
   },
   "file_extension": ".py",
   "mimetype": "text/x-python",
   "name": "python",
   "nbconvert_exporter": "python",
   "pygments_lexer": "ipython3",
   "version": "3.11.8"
  }
 },
 "nbformat": 4,
 "nbformat_minor": 2
}
